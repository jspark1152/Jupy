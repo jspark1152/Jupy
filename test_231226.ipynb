{
  "nbformat": 4,
  "nbformat_minor": 0,
  "metadata": {
    "colab": {
      "provenance": [],
      "toc_visible": true,
      "authorship_tag": "ABX9TyPKbBBwmnsFup1hr1hhT0GV",
      "include_colab_link": true
    },
    "kernelspec": {
      "name": "python3",
      "display_name": "Python 3"
    },
    "language_info": {
      "name": "python"
    }
  },
  "cells": [
    {
      "cell_type": "markdown",
      "metadata": {
        "id": "view-in-github",
        "colab_type": "text"
      },
      "source": [
        "<a href=\"https://colab.research.google.com/github/jspark1152/Jupy/blob/main/test_231226.ipynb\" target=\"_parent\"><img src=\"https://colab.research.google.com/assets/colab-badge.svg\" alt=\"Open In Colab\"/></a>"
      ]
    },
    {
      "cell_type": "code",
      "source": [
        "import tensorflow.compat.v1 as tf\n",
        "tf.disable_v2_behavior()\n",
        "\n",
        "W = tf.Variable(tf.random_normal([1]))\n",
        "b = tf.Variable(tf.random_normal([1]))\n",
        "\n",
        "X = tf.placeholder(tf.float32)\n",
        "Y = tf.placeholder(tf.float32)\n",
        "\n",
        "hypothesis = W*X + b\n",
        "\n",
        "cost = tf.reduce_mean(tf.square(hypothesis - Y))\n",
        "\n",
        "optimizer = tf.train.GradientDescentOptimizer(learning_rate = 0.01)\n",
        "\n",
        "train = optimizer.minimize(cost)\n",
        "\n",
        "sess = tf.Session()\n",
        "sess.run(tf.global_variables_initializer())\n",
        "\n",
        "for step in range(2001):\n",
        "  cost_val, W_val, b_val, _ = sess.run([cost,W, b, train],\n",
        "                                       feed_dict = {X : [1,2,3,4,5],\n",
        "                                                    Y : [2.1,3.1,4.1,5.1,6.1]})\n",
        "  if step %200==0:\n",
        "    print(step, cost_val, W_val, b_val)"
      ],
      "metadata": {
        "colab": {
          "base_uri": "https://localhost:8080/"
        },
        "id": "wgPUjf1w3W2q",
        "outputId": "9cb8b4bc-1624-4963-b686-809975904dc5"
      },
      "execution_count": null,
      "outputs": [
        {
          "output_type": "stream",
          "name": "stdout",
          "text": [
            "0 38.080475 [0.4559884] [-1.974805]\n",
            "200 0.3487479 [1.3821052] [-0.2795216]\n",
            "400 0.089987755 [1.194097] [0.39924797]\n",
            "600 0.023219584 [1.0985949] [0.7440409]\n",
            "800 0.0059913783 [1.0500829] [0.9191843]\n",
            "1000 0.0015459621 [1.0254406] [1.0081514]\n",
            "1200 0.0003989005 [1.0129229] [1.0533442]\n",
            "1400 0.00010293066 [1.0065645] [1.0763]\n",
            "1600 2.6559996e-05 [1.0033346] [1.087961]\n",
            "1800 6.8546824e-06 [1.0016941] [1.0938841]\n",
            "2000 1.7688584e-06 [1.0008605] [1.0968932]\n"
          ]
        }
      ]
    }
  ]
}